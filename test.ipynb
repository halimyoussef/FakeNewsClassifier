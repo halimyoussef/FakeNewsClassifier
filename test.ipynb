{
 "cells": [
  {
   "cell_type": "code",
   "execution_count": 1,
   "metadata": {},
   "outputs": [],
   "source": [
    "import pandas as pd\n",
    "import numpy as np\n",
    "import matplotlib.pyplot as plt\n",
    "import json\n",
    "import logging as log\n",
    "import utils\n",
    "import concurrent.futures"
   ]
  },
  {
   "cell_type": "markdown",
   "metadata": {},
   "source": [
    "# Data Processing\n",
    "## Fever Dataset"
   ]
  },
  {
   "cell_type": "code",
   "execution_count": 13,
   "metadata": {},
   "outputs": [
    {
     "data": {
      "text/html": [
       "<div>\n",
       "<style scoped>\n",
       "    .dataframe tbody tr th:only-of-type {\n",
       "        vertical-align: middle;\n",
       "    }\n",
       "\n",
       "    .dataframe tbody tr th {\n",
       "        vertical-align: top;\n",
       "    }\n",
       "\n",
       "    .dataframe thead th {\n",
       "        text-align: right;\n",
       "    }\n",
       "</style>\n",
       "<table border=\"1\" class=\"dataframe\">\n",
       "  <thead>\n",
       "    <tr style=\"text-align: right;\">\n",
       "      <th></th>\n",
       "      <th>id</th>\n",
       "      <th>verifiable</th>\n",
       "      <th>label</th>\n",
       "      <th>claim</th>\n",
       "      <th>evidence</th>\n",
       "    </tr>\n",
       "  </thead>\n",
       "  <tbody>\n",
       "    <tr>\n",
       "      <th>0</th>\n",
       "      <td>75397</td>\n",
       "      <td>VERIFIABLE</td>\n",
       "      <td>SUPPORTS</td>\n",
       "      <td>Nikolaj Coster-Waldau worked with the Fox Broa...</td>\n",
       "      <td>[[[92206, 104971, Nikolaj_Coster-Waldau, 7], [...</td>\n",
       "    </tr>\n",
       "    <tr>\n",
       "      <th>1</th>\n",
       "      <td>150448</td>\n",
       "      <td>VERIFIABLE</td>\n",
       "      <td>SUPPORTS</td>\n",
       "      <td>Roman Atwood is a content creator.</td>\n",
       "      <td>[[[174271, 187498, Roman_Atwood, 1]], [[174271...</td>\n",
       "    </tr>\n",
       "    <tr>\n",
       "      <th>2</th>\n",
       "      <td>214861</td>\n",
       "      <td>VERIFIABLE</td>\n",
       "      <td>SUPPORTS</td>\n",
       "      <td>History of art includes architecture, dance, s...</td>\n",
       "      <td>[[[255136, 254645, History_of_art, 2]]]</td>\n",
       "    </tr>\n",
       "    <tr>\n",
       "      <th>3</th>\n",
       "      <td>156709</td>\n",
       "      <td>VERIFIABLE</td>\n",
       "      <td>REFUTES</td>\n",
       "      <td>Adrienne Bailon is an accountant.</td>\n",
       "      <td>[[[180804, 193183, Adrienne_Bailon, 0]]]</td>\n",
       "    </tr>\n",
       "    <tr>\n",
       "      <th>4</th>\n",
       "      <td>83235</td>\n",
       "      <td>NOT VERIFIABLE</td>\n",
       "      <td>NOT ENOUGH INFO</td>\n",
       "      <td>System of a Down briefly disbanded in limbo.</td>\n",
       "      <td>[[[100277, None, None, None]]]</td>\n",
       "    </tr>\n",
       "  </tbody>\n",
       "</table>\n",
       "</div>"
      ],
      "text/plain": [
       "       id      verifiable            label  \\\n",
       "0   75397      VERIFIABLE         SUPPORTS   \n",
       "1  150448      VERIFIABLE         SUPPORTS   \n",
       "2  214861      VERIFIABLE         SUPPORTS   \n",
       "3  156709      VERIFIABLE          REFUTES   \n",
       "4   83235  NOT VERIFIABLE  NOT ENOUGH INFO   \n",
       "\n",
       "                                               claim  \\\n",
       "0  Nikolaj Coster-Waldau worked with the Fox Broa...   \n",
       "1                 Roman Atwood is a content creator.   \n",
       "2  History of art includes architecture, dance, s...   \n",
       "3                  Adrienne Bailon is an accountant.   \n",
       "4       System of a Down briefly disbanded in limbo.   \n",
       "\n",
       "                                            evidence  \n",
       "0  [[[92206, 104971, Nikolaj_Coster-Waldau, 7], [...  \n",
       "1  [[[174271, 187498, Roman_Atwood, 1]], [[174271...  \n",
       "2            [[[255136, 254645, History_of_art, 2]]]  \n",
       "3           [[[180804, 193183, Adrienne_Bailon, 0]]]  \n",
       "4                     [[[100277, None, None, None]]]  "
      ]
     },
     "execution_count": 13,
     "metadata": {},
     "output_type": "execute_result"
    }
   ],
   "source": [
    "# claim label range is smaller than Liar and Snopes but provides sources like Snopes. Better for fact checking\n",
    "fever_ds = pd.read_json('data/fever_dataset/fever_train.jsonl', lines=True)\n",
    "fever_ds.head()"
   ]
  },
  {
   "cell_type": "code",
   "execution_count": 14,
   "metadata": {},
   "outputs": [
    {
     "name": "stdout",
     "output_type": "stream",
     "text": [
      "<class 'pandas.core.frame.DataFrame'>\n",
      "RangeIndex: 145449 entries, 0 to 145448\n",
      "Data columns (total 5 columns):\n",
      " #   Column      Non-Null Count   Dtype \n",
      "---  ------      --------------   ----- \n",
      " 0   id          145449 non-null  int64 \n",
      " 1   verifiable  145449 non-null  object\n",
      " 2   label       145449 non-null  object\n",
      " 3   claim       145449 non-null  object\n",
      " 4   evidence    145449 non-null  object\n",
      "dtypes: int64(1), object(4)\n",
      "memory usage: 5.5+ MB\n"
     ]
    }
   ],
   "source": [
    "fever_ds.info()"
   ]
  },
  {
   "cell_type": "code",
   "execution_count": 6,
   "metadata": {},
   "outputs": [
    {
     "name": "stdout",
     "output_type": "stream",
     "text": [
      "label\n",
      "SUPPORTS           80035\n",
      "NOT ENOUGH INFO    35639\n",
      "REFUTES            29775\n",
      "Name: count, dtype: int64\n"
     ]
    }
   ],
   "source": [
    "print(fever_ds['label'].value_counts())"
   ]
  },
  {
   "cell_type": "code",
   "execution_count": 5,
   "metadata": {},
   "outputs": [
    {
     "name": "stdout",
     "output_type": "stream",
     "text": [
      "label\n",
      "SUPPORTS           0.550262\n",
      "NOT ENOUGH INFO    0.245027\n",
      "REFUTES            0.204711\n",
      "Name: proportion, dtype: float64\n"
     ]
    }
   ],
   "source": [
    "print(fever_ds['label'].value_counts(normalize=True))"
   ]
  },
  {
   "cell_type": "code",
   "execution_count": 12,
   "metadata": {},
   "outputs": [
    {
     "data": {
      "text/html": [
       "<div>\n",
       "<style scoped>\n",
       "    .dataframe tbody tr th:only-of-type {\n",
       "        vertical-align: middle;\n",
       "    }\n",
       "\n",
       "    .dataframe tbody tr th {\n",
       "        vertical-align: top;\n",
       "    }\n",
       "\n",
       "    .dataframe thead th {\n",
       "        text-align: right;\n",
       "    }\n",
       "</style>\n",
       "<table border=\"1\" class=\"dataframe\">\n",
       "  <thead>\n",
       "    <tr style=\"text-align: right;\">\n",
       "      <th></th>\n",
       "      <th>ID</th>\n",
       "      <th>Snopes URL</th>\n",
       "      <th>Claim</th>\n",
       "      <th>Truthfulness (Verdicts)</th>\n",
       "      <th>Snippets (ETS)</th>\n",
       "      <th>Source URL</th>\n",
       "      <th>Source</th>\n",
       "      <th>Documents (orginal documents)</th>\n",
       "      <th>Match ETS and Documents</th>\n",
       "    </tr>\n",
       "  </thead>\n",
       "  <tbody>\n",
       "    <tr>\n",
       "      <th>0</th>\n",
       "      <td>1</td>\n",
       "      <td>http://www.snopes.com/inboxer/prayer/darkhorse...</td>\n",
       "      <td>Prayers are requested for the Darkhorse Marine...</td>\n",
       "      <td>OUTDATED</td>\n",
       "      <td>&lt;p&gt; The Marines patrolling through the green f...</td>\n",
       "      <td>http://archive.boston.com/news/world/asia/arti...</td>\n",
       "      <td>Marines learn lessons from tragedy in Afghanis...</td>\n",
       "      <td>Marines learn lessons from tragedy in Afghanis...</td>\n",
       "      <td>match</td>\n",
       "    </tr>\n",
       "    <tr>\n",
       "      <th>1</th>\n",
       "      <td>2</td>\n",
       "      <td>http://www.snopes.com/inboxer/prayer/darkhorse...</td>\n",
       "      <td>Prayers are requested for the Darkhorse Marine...</td>\n",
       "      <td>OUTDATED</td>\n",
       "      <td>&lt;p&gt; An infantryman from Camp Pendleton's 3rd B...</td>\n",
       "      <td></td>\n",
       "      <td></td>\n",
       "      <td></td>\n",
       "      <td></td>\n",
       "    </tr>\n",
       "    <tr>\n",
       "      <th>2</th>\n",
       "      <td>3</td>\n",
       "      <td>http://www.snopes.com/inboxer/prayer/darkhorse...</td>\n",
       "      <td>Prayers are requested for the Darkhorse Marine...</td>\n",
       "      <td>OUTDATED</td>\n",
       "      <td>&lt;p&gt; We are asking everyone to say a prayer for...</td>\n",
       "      <td></td>\n",
       "      <td></td>\n",
       "      <td></td>\n",
       "      <td></td>\n",
       "    </tr>\n",
       "    <tr>\n",
       "      <th>3</th>\n",
       "      <td>4</td>\n",
       "      <td>http://www.snopes.com/inboxer/prayer/darkhorse...</td>\n",
       "      <td>Prayers are requested for the Darkhorse Marine...</td>\n",
       "      <td>OUTDATED</td>\n",
       "      <td>&lt;p&gt; U.S. Marines who recently inherited this l...</td>\n",
       "      <td></td>\n",
       "      <td></td>\n",
       "      <td></td>\n",
       "      <td></td>\n",
       "    </tr>\n",
       "    <tr>\n",
       "      <th>4</th>\n",
       "      <td>5</td>\n",
       "      <td>http://www.snopes.com/inboxer/prayer/darkhorse...</td>\n",
       "      <td>Prayers are requested for the Darkhorse Marine...</td>\n",
       "      <td>OUTDATED</td>\n",
       "      <td></td>\n",
       "      <td>https://web.archive.org/web/20081004102646/htt...</td>\n",
       "      <td>3rd Battalion 5th Marines History</td>\n",
       "      <td>Starting in 1996, Alexa Internet has been dona...</td>\n",
       "      <td></td>\n",
       "    </tr>\n",
       "  </tbody>\n",
       "</table>\n",
       "</div>"
      ],
      "text/plain": [
       "   ID                                         Snopes URL  \\\n",
       "0   1  http://www.snopes.com/inboxer/prayer/darkhorse...   \n",
       "1   2  http://www.snopes.com/inboxer/prayer/darkhorse...   \n",
       "2   3  http://www.snopes.com/inboxer/prayer/darkhorse...   \n",
       "3   4  http://www.snopes.com/inboxer/prayer/darkhorse...   \n",
       "4   5  http://www.snopes.com/inboxer/prayer/darkhorse...   \n",
       "\n",
       "                                               Claim Truthfulness (Verdicts)  \\\n",
       "0  Prayers are requested for the Darkhorse Marine...                OUTDATED   \n",
       "1  Prayers are requested for the Darkhorse Marine...                OUTDATED   \n",
       "2  Prayers are requested for the Darkhorse Marine...                OUTDATED   \n",
       "3  Prayers are requested for the Darkhorse Marine...                OUTDATED   \n",
       "4  Prayers are requested for the Darkhorse Marine...                OUTDATED   \n",
       "\n",
       "                                      Snippets (ETS)  \\\n",
       "0  <p> The Marines patrolling through the green f...   \n",
       "1  <p> An infantryman from Camp Pendleton's 3rd B...   \n",
       "2  <p> We are asking everyone to say a prayer for...   \n",
       "3  <p> U.S. Marines who recently inherited this l...   \n",
       "4                                                      \n",
       "\n",
       "                                          Source URL  \\\n",
       "0  http://archive.boston.com/news/world/asia/arti...   \n",
       "1                                                      \n",
       "2                                                      \n",
       "3                                                      \n",
       "4  https://web.archive.org/web/20081004102646/htt...   \n",
       "\n",
       "                                              Source  \\\n",
       "0  Marines learn lessons from tragedy in Afghanis...   \n",
       "1                                                      \n",
       "2                                                      \n",
       "3                                                      \n",
       "4                  3rd Battalion 5th Marines History   \n",
       "\n",
       "                       Documents (orginal documents) Match ETS and Documents   \n",
       "0  Marines learn lessons from tragedy in Afghanis...                    match  \n",
       "1                                                                              \n",
       "2                                                                              \n",
       "3                                                                              \n",
       "4  Starting in 1996, Alexa Internet has been dona...                           "
      ]
     },
     "execution_count": 12,
     "metadata": {},
     "output_type": "execute_result"
    }
   ],
   "source": [
    "#provides both a good range of labels and sources\n",
    "snopes_ds = pd.read_csv('data/ukp_snopes_corpus/datasets_raw/snopes_corpus_4.csv')\n",
    "snopes_ds.head()"
   ]
  },
  {
   "cell_type": "code",
   "execution_count": 13,
   "metadata": {},
   "outputs": [
    {
     "name": "stdout",
     "output_type": "stream",
     "text": [
      "<class 'pandas.core.frame.DataFrame'>\n",
      "RangeIndex: 25778 entries, 0 to 25777\n",
      "Data columns (total 9 columns):\n",
      " #   Column                         Non-Null Count  Dtype \n",
      "---  ------                         --------------  ----- \n",
      " 0   ID                             25778 non-null  int64 \n",
      " 1   Snopes URL                     25778 non-null  object\n",
      " 2   Claim                          25767 non-null  object\n",
      " 3   Truthfulness (Verdicts)        25767 non-null  object\n",
      " 4   Snippets (ETS)                 25778 non-null  object\n",
      " 5   Source URL                     25778 non-null  object\n",
      " 6   Source                         25713 non-null  object\n",
      " 7   Documents (orginal documents)  25778 non-null  object\n",
      " 8   Match ETS and Documents        25778 non-null  object\n",
      "dtypes: int64(1), object(8)\n",
      "memory usage: 1.8+ MB\n"
     ]
    }
   ],
   "source": [
    "snopes_ds.info()"
   ]
  },
  {
   "cell_type": "code",
   "execution_count": 49,
   "metadata": {},
   "outputs": [
    {
     "name": "stdout",
     "output_type": "stream",
     "text": [
      "<p> The Marines patrolling through the green fields and tall mud compounds of Helmand province's Sangin district say they are literally in a race for their lives. They are trying to adjust their tactics to outwit Taliban fighters, who have killed more coalition troops here than in any other Afghan district this year.</p> <p>“As a new unit coming in, you are at a distinct disadvantage because the Taliban have been fighting here for years, have established fighting positions and have laid the ground with a ton of IEDs,” said Lt. Col. Jason Morris, commander of the 3rd Battalion, 5th Marine Regiment. “You have to evolve quickly because you have no other choice.”</p> <p>Many of the younger Marines also have had to cope for the first time with seeing their best friends die or suffer grievous wounds. Fifteen Marines have been killed and about 50 wounded since the battalion arrived in October [2010] - many by improvised explosive devices or IEDs. </p>\n",
      "========\n",
      "Truthfulness (Verdicts)\n",
      "FALSE                                        11411\n",
      "MIXTURE                                       3556\n",
      "TRUE                                          2318\n",
      "MOSTLY FALSE                                  2132\n",
      "UNPROVEN                                      1845\n",
      "                                             ...  \n",
      "WAS PARTLY TRUE                                  1\n",
      " Two real entries, the others are fiction        1\n",
      "REAL PHOTOGRAPH; FALSE DESCRIPTION               1\n",
      "MIXTURE OF REAL AND FAKE IMAGES                  1\n",
      " Real video; inaccurate description              1\n",
      "Name: count, Length: 83, dtype: int64\n",
      "========\n",
      "182\n"
     ]
    }
   ],
   "source": [
    "#print(snopes_ds['Source'][0]) #sources to back the claim, split by ';'\n",
    "print(snopes_ds['Snippets (ETS)'][0]) #Evidence text snippets, split by number\n",
    "print('========')\n",
    "print(snopes_ds['Truthfulness (Verdicts)'].value_counts()) # 5 classes\n",
    "print('========')\n",
    "print((snopes_ds['Truthfulness (Verdicts)']=='OUTDATED').sum()) # 5 classes"
   ]
  },
  {
   "cell_type": "markdown",
   "metadata": {},
   "source": [
    "### Random tests to understand the data"
   ]
  },
  {
   "cell_type": "code",
   "execution_count": 7,
   "metadata": {},
   "outputs": [
    {
     "ename": "NameError",
     "evalue": "name 'snopes_ds' is not defined",
     "output_type": "error",
     "traceback": [
      "\u001b[1;31m---------------------------------------------------------------------------\u001b[0m",
      "\u001b[1;31mNameError\u001b[0m                                 Traceback (most recent call last)",
      "Cell \u001b[1;32mIn[7], line 2\u001b[0m\n\u001b[0;32m      1\u001b[0m fever_instance \u001b[38;5;241m=\u001b[39m fever_ds\u001b[38;5;241m.\u001b[39miloc[\u001b[38;5;241m0\u001b[39m]\n\u001b[1;32m----> 2\u001b[0m snopes_instance \u001b[38;5;241m=\u001b[39m snopes_ds\u001b[38;5;241m.\u001b[39miloc[\u001b[38;5;241m0\u001b[39m]\n\u001b[0;32m      4\u001b[0m \u001b[38;5;28mprint\u001b[39m(\u001b[38;5;124m'\u001b[39m\u001b[38;5;124mFever instance:\u001b[39m\u001b[38;5;124m'\u001b[39m)\n\u001b[0;32m      5\u001b[0m \u001b[38;5;28mprint\u001b[39m(fever_instance)\n",
      "\u001b[1;31mNameError\u001b[0m: name 'snopes_ds' is not defined"
     ]
    }
   ],
   "source": [
    "fever_instance = fever_ds.iloc[0]\n",
    "snopes_instance = snopes_ds.iloc[0]\n",
    "\n",
    "print('Fever instance:')\n",
    "print(fever_instance)\n",
    "print('========')\n",
    "print('Snopes instance:')\n",
    "print(snopes_instance)"
   ]
  },
  {
   "cell_type": "code",
   "execution_count": 53,
   "metadata": {},
   "outputs": [
    {
     "name": "stdout",
     "output_type": "stream",
     "text": [
      "ID :\n",
      "1\n",
      "========\n",
      "Snopes URL :\n",
      "http://www.snopes.com/inboxer/prayer/darkhorse.asp\n",
      "========\n",
      "Claim :\n",
      "Prayers are requested for the Darkhorse Marine battalion fighting in Afghanistan.\n",
      "========\n",
      "Truthfulness (Verdicts) :\n",
      "OUTDATED\n",
      "========\n",
      "Snippets (ETS) :\n",
      "<p> The Marines patrolling through the green fields and tall mud compounds of Helmand province's Sangin district say they are literally in a race for their lives. They are trying to adjust their tactics to outwit Taliban fighters, who have killed more coalition troops here than in any other Afghan district this year.</p> <p>“As a new unit coming in, you are at a distinct disadvantage because the Taliban have been fighting here for years, have established fighting positions and have laid the ground with a ton of IEDs,” said Lt. Col. Jason Morris, commander of the 3rd Battalion, 5th Marine Regiment. “You have to evolve quickly because you have no other choice.”</p> <p>Many of the younger Marines also have had to cope for the first time with seeing their best friends die or suffer grievous wounds. Fifteen Marines have been killed and about 50 wounded since the battalion arrived in October [2010] - many by improvised explosive devices or IEDs. </p>\n",
      "========\n",
      "Source URL:\n",
      "http://archive.boston.com/news/world/asia/articles/2010/11/12/marines_learn_lessons_from_tragedy_in_afghanistan/\n",
      "========\n",
      "Source :\n",
      "Marines learn lessons from tragedy in Afghanistan - Boston.com\n",
      "========\n",
      "Documents (orginal documents) :\n",
      "Marines learn lessons from tragedy in Afghanistan Lance Cpl. Marcyn Maletz, of Berkeley, California, with India company, 3rd Battalion 5th Marines, First Marine Division, keeps watch accompanied by Afghan soldiers during a patrol, Thursday, Nov. 11, 2010 in Sangin, Afghanistan (AP Photo/Dusan Vranic) E-mail this article Sending your article Your article has been sent. PATROL BASE FULOD, Afghanistan- The first time U.S. Marines went on patrol from this base in southern Afghanistan, the Taliban were ready. The militants shot and killed a 21-year-old lance corporal just 150 feet from the perimeter. Irvin Ceniceros, from Clarksville, Arkansas, was one of nine Americans who died in the four days after Marines assumed command of Afghanistan's most dangerous district -- a sign that no amount of training can fully prepare a unit for the battlefield. The Marines patrolling through the green fields and tall mud compounds of Helmand province's Sangin district say they are literally in a race for their lives. They are trying to adjust their tactics to outwit Taliban fighters, who have killed more coalition troops here than in any other Afghan district this year. \"As a new unit coming in, you are at a distinct disadvantage because the Taliban have been fighting here for years, have established fighting positions and have laid the ground with a ton of IEDs,\" said Lt. Col. Jason Morris, commander of the 3rd Battalion, 5th Marine Regiment. \"You have to evolve quickly because you have no other choice.\" Many of the younger Marines also have had to cope for the first time with seeing their best friends die or suffer grievous wounds. Fifteen Marines have been killed and about 50 wounded since the battalion arrived in October -- many by improvised explosive devices or IEDs. \"You really can't prepare a Marine to lose his good buddy or see another one of his buddies with both his legs blown off,\" said Capt. Chris Esrey, commander of the battalion's India Company. \"The best way to overcome that is to get right back out on a patrol the next day because it doesn't happen every time you go out.\" Ceniceros, who was killed on Oct. 14, was a member of India Company's 3rd Platoon stationed at Patrol Base Fulod -- a dusty outpost just up the road from the district center that Marines inherited from British forces. The British withdrew in September after four years of fighting that killed more than 100 British soldiers. Despite the previous occupants, the Marines who pushed out with Ceniceros that fateful afternoon said they didn't realize how dangerous the mud compounds to the south of the base were until the Taliban unleashed a stream of machine-gun fire, pinning down two Marines. \"We kind of snuck our nose in the south to see what the south was about and we found out real quick that you don't go south unless you have a lot of dudes,\" said Sgt. Adam Keliipaakaua, who was leading the patrol. Ceniceros managed to save the two Marines who were pinned down by covering their escape with a hail of bullets. He later took a fatal round to the chest just above his body armor as the Marines were trying to make their way back to base. \"He died like he lived, a freaking hero caring about other people,\" said Lt. Joe Patterson, 31, of Owasso, Oklahoma. Patterson is the 3rd Platoon's commander. Keliipaakaua, 26, of Newport News, Virginia, said Ceniceros' tragic death offered critical lessons that can be learned only on the battlefield and might help save others. \"You learn from it, you adapt to it and you give it back to the enemy,\" he said. The Marines now have a better idea of where they will be ambushed around their base and have doubled the size of their patrols to increase the amount of firepower they can direct toward the Taliban. On Thursday, the Marines killed 15 militants in an hourlong firefight, according to NATO. Those who patrol through the main bazaar in the district center now know to look to the skies. They said the Taliban often fly white kites over the local mosque to signal the presence of the Marines. The Taliban like to attack using so-called \"murder holes\" -- small holes carved into strong mud walls that allow the insurgents to shoot without exposing themselves. The militants also scout the routes the Marines will likely use to evacuate their casualties so they can attack them. As four Marines carried Ceniceros up an alleyway toward the base, they had to dodge a stream of bullets, said Keliipaakaua. To avoid walking into a firefight, the Marines look to see whether kids are around. Their absence could mean an impending attack, but the Taliban also use children as spotters, so the tactic isn't foolproof. \"A little kid will run around the corner and run back, and a minute later you are being shot at,\" said Keliipaakaua. But the threat of an ambush pales in comparison to the biggest danger lurking in Sangin and much of Afghanistan: the scores of IEDs buried in roads, trails, compounds and even canals. Many are largely constructed out of wood or plastic, making them very difficult to detect. Three days after Ceniceros was killed, another member of 3rd Platoon, Cpl. David Noblit, stepped on an IED in a compound located in dense vegetation across the street from Patrol Base Fulod. Noblit survived the explosion but lost both his legs. The battalion has been hit with about 40 IED attacks and has found more than 100 other bombs before they exploded. \"You want to vary up your routes to go where the enemy doesn't expect you to travel,\" said Esrey, 33, of Havelock, North Carolina. \"I can walk through water ankle-high, but the bad guys probably know that's where I want to go, so I want to go somewhere the water is chest-high.\" But the Taliban are always watching and adapting as well. One of the last Marines from the battalion who was killed stepped on an IED buried underwater in a canal. \"The tactics keep changing because they're smart and they watch us,\" said Esrey. \"They don't have TV here. We're their TV.\" © Copyright 2010 Associated Press. All rights reserved. This material may not be published, broadcast, rewritten, or redistributed. LOG IN TO COMMENT Sorry, we could not find your e-mail or password. Please try again, or click here to retrieve your password. New users Please take a minute to register. After you register and pick a screen name, you can publish your comments everywhere on the site. Posting Policy .\n",
      "========\n",
      "Match ETS and Documents\n",
      "match\n"
     ]
    }
   ],
   "source": [
    "print('ID :')\n",
    "print(snopes_instance['ID'])\n",
    "print('========')\n",
    "print('Snopes URL :')\n",
    "print(snopes_instance['Snopes URL'])\n",
    "print('========')\n",
    "print('Claim :')\n",
    "print(snopes_instance['Claim'])\n",
    "print('========')\n",
    "print('Truthfulness (Verdicts) :')\n",
    "print(snopes_instance['Truthfulness (Verdicts)'])\n",
    "print('========')\n",
    "print('Snippets (ETS) :')\n",
    "print(snopes_instance['Snippets (ETS)'])\n",
    "print('========')\n",
    "print('Source URL:')\n",
    "print(snopes_instance['Source URL'])\n",
    "print('========')\n",
    "print('Source :')\n",
    "print(snopes_instance['Source'])\n",
    "print('========')\n",
    "print('Documents (orginal documents) :')\n",
    "print(snopes_instance['Documents (orginal documents)'])\n",
    "print('========')\n",
    "print('Match ETS and Documents')\n",
    "print(snopes_instance[-1])"
   ]
  },
  {
   "cell_type": "code",
   "execution_count": 8,
   "metadata": {},
   "outputs": [
    {
     "name": "stdout",
     "output_type": "stream",
     "text": [
      "ID :\n",
      "75397\n",
      "========\n",
      "verifiable : \n",
      "VERIFIABLE\n",
      "========\n",
      "label : \n",
      "SUPPORTS\n",
      "========\n",
      "claim : \n",
      "Nikolaj Coster-Waldau worked with the Fox Broadcasting Company.\n",
      "========\n",
      "evidence : \n",
      "[[[92206, 104971, 'Nikolaj_Coster-Waldau', 7], [92206, 104971, 'Fox_Broadcasting_Company', 0]]]\n"
     ]
    }
   ],
   "source": [
    "print('ID :')\n",
    "print(fever_instance['id'])\n",
    "print('========')\n",
    "print('verifiable : ')\n",
    "print(fever_instance['verifiable'])\n",
    "print('========')\n",
    "print('label : ')\n",
    "print(fever_instance['label'])\n",
    "print('========')\n",
    "print('claim : ')\n",
    "print(fever_instance['claim'])\n",
    "print('========')\n",
    "print('evidence : ')\n",
    "print(fever_instance['evidence'])\n",
    "\n",
    "\n",
    "#f_evidence = fever_instance['evidence']\n",
    "#print(f_evidence)\n",
    "#print(f_evidence[0])\n",
    "#print(f_evidence[0][0])\n"
   ]
  },
  {
   "cell_type": "markdown",
   "metadata": {},
   "source": [
    "# Retreving data for FEVER"
   ]
  },
  {
   "cell_type": "code",
   "execution_count": 14,
   "metadata": {},
   "outputs": [
    {
     "name": "stdout",
     "output_type": "stream",
     "text": [
      "The autoreload extension is already loaded. To reload it, use:\n",
      "  %reload_ext autoreload\n"
     ]
    }
   ],
   "source": [
    "%load_ext autoreload\n",
    "%autoreload 2\n",
    "\n",
    "import pandas as pd\n",
    "import numpy as np\n",
    "import matplotlib.pyplot as plt\n",
    "import json\n",
    "import logging as log\n",
    "import utils\n",
    "import concurrent.futures"
   ]
  },
  {
   "cell_type": "code",
   "execution_count": 15,
   "metadata": {},
   "outputs": [],
   "source": [
    "fever_ds = pd.read_json('data/fever_dataset/fever_train.jsonl', lines=True)"
   ]
  },
  {
   "cell_type": "code",
   "execution_count": 16,
   "metadata": {},
   "outputs": [
    {
     "name": "stdout",
     "output_type": "stream",
     "text": [
      "(7, 5)\n"
     ]
    }
   ],
   "source": [
    "subset = fever_ds.head(10)\n",
    "subset = subset.loc[subset['verifiable'] != 'NOT VERIFIABLE']\n",
    "print(subset.shape)\n",
    "articles = pd.DataFrame(columns=['page', 'data'])\n"
   ]
  },
  {
   "cell_type": "code",
   "execution_count": 17,
   "metadata": {},
   "outputs": [
    {
     "name": "stdout",
     "output_type": "stream",
     "text": [
      ">>> ================================\n",
      ">>> Starting process for: [92206, 104971, 'Nikolaj_Coster-Waldau', 7]\n",
      ">>> Getting data for: Nikolaj Coster-Waldau (Original name: Nikolaj_Coster-Waldau)\n",
      ">>> TEST for data length: 10125 characters\n",
      ">>> Saving data for: Nikolaj Coster-Waldau\n",
      ">>> Getting ETS for: Nikolaj_Coster-Waldau , sentence id: 7\n",
      "6\n",
      "7\n",
      ">>> OUTPUT ETS:   He is a UNDP Goodwill Ambassador, drawing public attention to issues such as gender equality and climate change\n",
      ">>> ================================\n",
      ">>> Starting process for: [174271, 187498, 'Roman_Atwood', 1]\n",
      ">>> Getting data for: Roman Atwood (Original name: Roman_Atwood)\n",
      ">>> TEST for data length: 8206 characters\n",
      ">>> Saving data for: Roman Atwood\n",
      ">>> Getting ETS for: Roman_Atwood , sentence id: 1\n",
      "6\n",
      "7\n",
      ">>> ================================\n",
      ">>> Starting process for: [174271, 187499, 'Roman_Atwood', 3]\n",
      ">>> Already got data for: Roman_Atwood\n",
      ">>> Getting ETS for: Roman_Atwood\n",
      ">>> OUTPUT ETS:   He is best known for his vlogs, where he posts updates about his life.  He also has another YouTube channel called \"RomanAtwood\", where he used to post prank videos\n",
      ">>> ================================\n",
      ">>> Starting process for: [255136, 254645, 'History_of_art', 2]\n",
      ">>> Getting data for: History of art (Original name: History_of_art)\n",
      ">>> TEST for data length: 104441 characters\n",
      ">>> Saving data for: History of art\n",
      ">>> Getting ETS for: History_of_art , sentence id: 2\n",
      "6\n",
      "7\n",
      ">>> OUTPUT ETS:   In recent years, technological advances have led to video art, computer art, performance art, animation, television, and videogames\n",
      ">>> ================================\n",
      ">>> Starting process for: [180804, 193183, 'Adrienne_Bailon', 0]\n",
      ">>> Getting data for: Adrienne Bailon (Original name: Adrienne_Bailon)\n",
      ">>> TEST for data length: 17379 characters\n",
      ">>> Saving data for: Adrienne Bailon\n",
      ">>> Getting ETS for: Adrienne_Bailon , sentence id: 0\n",
      "6\n",
      "7\n",
      ">>> OUTPUT ETS:  Adrienne Eliza Bailon-Houghton (née Bailon (); born October 24, 1983) is an American television personality, singer, and actress\n",
      ">>> ================================\n",
      ">>> Starting process for: [151831, 166598, 'Homeland_-LRB-TV_series-RRB-', 0]\n",
      ">>> Getting data for: Homeland (TV series) (Original name: Homeland_-LRB-TV_series-RRB-)\n",
      ">>> TEST for data length: 24735 characters\n",
      ">>> Saving data for: Homeland (TV series)\n",
      ">>> Getting ETS for: Homeland_-LRB-TV_series-RRB- , sentence id: 0\n",
      "6\n",
      "7\n",
      ">>> OUTPUT ETS:  Homeland (stylized as HOMƎLAND) is an American espionage thriller television series developed by Howard Gordon and Alex Gansa based on the Israeli series Prisoners of War (Hebrew: חטופים, romanized: Hatufim, literally \"Abductees\") which was created by Gideon Raff, who serves as an executive producer on Homeland\n",
      ">>> ================================\n",
      ">>> Starting process for: [49158, 58489, 'Boston_Celtics', 3]\n",
      ">>> Getting data for: Boston Celtics (Original name: Boston_Celtics)\n",
      ">>> TEST for data length: 69527 characters\n",
      ">>> Saving data for: Boston Celtics\n",
      ">>> Getting ETS for: Boston_Celtics , sentence id: 3\n",
      "6\n",
      "7\n",
      ">>> ================================\n",
      ">>> Starting process for: [49159, 58490, 'Boston_Celtics', 3]\n",
      ">>> Already got data for: Boston_Celtics\n",
      ">>> Getting ETS for: Boston_Celtics\n",
      ">>> OUTPUT ETS:   The franchise's 17 NBA championships are the most of any team, tied with the Los Angeles Lakers.  The franchise's 17 NBA championships are the most of any team, tied with the Los Angeles Lakers\n",
      ">>> ================================\n",
      ">>> Starting process for: [23513, 28977, 'The_Ten_Commandments_-LRB-1956_film-RRB-', 0]\n",
      ">>> Getting data for: The Ten Commandments (1956 film) (Original name: The_Ten_Commandments_-LRB-1956_film-RRB-)\n",
      ">>> TEST for data length: 39753 characters\n",
      ">>> Saving data for: The Ten Commandments (1956 film)\n",
      ">>> Getting ETS for: The_Ten_Commandments_-LRB-1956_film-RRB- , sentence id: 0\n",
      "6\n",
      "7\n",
      ">>> ================================\n",
      ">>> Starting process for: [23513, 28978, 'The_Ten_Commandments_-LRB-1956_film-RRB-', 20]\n",
      ">>> Already got data for: The_Ten_Commandments_-LRB-1956_film-RRB-\n",
      ">>> Getting ETS for: The_Ten_Commandments_-LRB-1956_film-RRB-\n",
      ">>> OUTPUT ETS:  The Ten Commandments is a 1956 American epic religious drama film produced, directed, and narrated by Cecil B.  DeMille won the Foreign Language Press Film Critics Circle Award for Best Director\n"
     ]
    }
   ],
   "source": [
    "for i, row in subset.iterrows():\n",
    "    try:\n",
    "        ets, document = utils.get_all_ETS_and_document(row['evidence'], articles)\n",
    "        print(\">>> OUTPUT ETS: \", ets)\n",
    "        subset.at[i, 'ETS'] = ets\n",
    "        subset.at[i, 'Documents'] = document\n",
    "    except:\n",
    "        if row['label'] == 'NOT ENOUGH INFO':\n",
    "            subset.at[i, 'ETS'] = None\n",
    "            subset.at[i, 'Documents'] = None\n",
    "        else:\n",
    "            subset = subset.drop(i)"
   ]
  },
  {
   "cell_type": "code",
   "execution_count": 19,
   "metadata": {},
   "outputs": [
    {
     "name": "stdout",
     "output_type": "stream",
     "text": [
      "                               page  \\\n",
      "0             Nikolaj Coster-Waldau   \n",
      "1                      Roman Atwood   \n",
      "2                    History of art   \n",
      "3                   Adrienne Bailon   \n",
      "4              Homeland (TV series)   \n",
      "5                    Boston Celtics   \n",
      "6  The Ten Commandments (1956 film)   \n",
      "\n",
      "                                                data  \n",
      "0  Nikolaj William Coster-Waldau (Danish pronunci...  \n",
      "1  Roman Bernard Atwood (born May 28, 1983) is an...  \n",
      "2  The history of art focuses on objects made by ...  \n",
      "3  Adrienne Eliza Bailon-Houghton (née Bailon ();...  \n",
      "4  Homeland (stylized as HOMƎLAND) is an American...  \n",
      "5  The Boston Celtics ( SEL-tiks) are an American...  \n",
      "6  The Ten Commandments is a 1956 American epic r...  \n"
     ]
    }
   ],
   "source": [
    "print(articles)"
   ]
  },
  {
   "cell_type": "code",
   "execution_count": 20,
   "metadata": {},
   "outputs": [],
   "source": [
    "subset.to_csv('subset_data.csv', index=False)"
   ]
  },
  {
   "cell_type": "code",
   "execution_count": 47,
   "metadata": {},
   "outputs": [
    {
     "name": "stdout",
     "output_type": "stream",
     "text": [
      "       id  verifiable     label  \\\n",
      "0   75397  VERIFIABLE  SUPPORTS   \n",
      "1  150448  VERIFIABLE  SUPPORTS   \n",
      "2  214861  VERIFIABLE  SUPPORTS   \n",
      "3  156709  VERIFIABLE   REFUTES   \n",
      "4  129629  VERIFIABLE  SUPPORTS   \n",
      "5   33078  VERIFIABLE  SUPPORTS   \n",
      "6    6744  VERIFIABLE  SUPPORTS   \n",
      "\n",
      "                                               claim  \\\n",
      "0  Nikolaj Coster-Waldau worked with the Fox Broa...   \n",
      "1                 Roman Atwood is a content creator.   \n",
      "2  History of art includes architecture, dance, s...   \n",
      "3                  Adrienne Bailon is an accountant.   \n",
      "4  Homeland is an American television spy thrille...   \n",
      "5  The Boston Celtics play their home games at TD...   \n",
      "6              The Ten Commandments is an epic film.   \n",
      "\n",
      "                                            evidence  \n",
      "0  [[[92206, 104971, 'Nikolaj_Coster-Waldau', 7],...  \n",
      "1  [[[174271, 187498, 'Roman_Atwood', 1]], [[1742...  \n",
      "2          [[[255136, 254645, 'History_of_art', 2]]]  \n",
      "3         [[[180804, 193183, 'Adrienne_Bailon', 0]]]  \n",
      "4  [[[151831, 166598, 'Homeland_-LRB-TV_series-RR...  \n",
      "5  [[[49158, 58489, 'Boston_Celtics', 3]], [[4915...  \n",
      "6  [[[23513, 28977, 'The_Ten_Commandments_-LRB-19...  \n"
     ]
    }
   ],
   "source": [
    "test = pd.read_csv('subset_data.csv')\n",
    "print(test)"
   ]
  },
  {
   "cell_type": "code",
   "execution_count": null,
   "metadata": {},
   "outputs": [],
   "source": [
    "import concurrent.futures\n",
    "import pandas as pd\n",
    "\n",
    "# Replace this function with your actual processing logic\n",
    "def process_row(row, articles):\n",
    "    try:\n",
    "        ets, document = utils.get_all_ETS_and_document(row['evidence'], articles)\n",
    "        print(\">>> OUTPUT ETS: \", ets)\n",
    "        return ets, document\n",
    "    except Exception as e:\n",
    "        if row['label'] == 'NOT ENOUGH INFO':\n",
    "            return None, None\n",
    "        else:\n",
    "            # Log the exception or handle the error as needed\n",
    "            return None, None\n",
    "\n",
    "def parallel_processing(chunk):\n",
    "    articles_local = pd.DataFrame(columns=['page', 'data'])\n",
    "    results = []\n",
    "\n",
    "    for i, row in chunk.iterrows():\n",
    "        ets, document = process_row(row, articles_local)\n",
    "        results.append((i, ets, document))\n",
    "\n",
    "    return results, articles_local\n",
    "\n",
    "# Assume 'df' is your original DataFrame\n",
    "# Divide the DataFrame into chunks\n",
    "chunk_size = 1000\n",
    "df_chunks = [fever_ds.iloc[i:i + chunk_size] for i in range(0, len(fever_ds), chunk_size)]\n",
    "\n",
    "# Process each chunk in parallel\n",
    "with concurrent.futures.ProcessPoolExecutor() as executor:\n",
    "    futures = [executor.submit(parallel_processing, chunk) for chunk in df_chunks]\n",
    "\n",
    "    # Collect results\n",
    "    results_list = [future.result() for future in futures]\n",
    "\n",
    "# Update the original DataFrame with the results\n",
    "for results, articles_local in results_list:\n",
    "    for i, ets, document in results:\n",
    "        fever_ds.at[i, 'ETS'] = ets\n",
    "        fever_ds.at[i, 'Documents'] = document\n",
    "\n",
    "    # Merge articles_local into the main articles DataFrame\n",
    "    articles = pd.concat([articles, articles_local]).drop_duplicates(subset='page').reset_index(drop=True)\n"
   ]
  },
  {
   "cell_type": "code",
   "execution_count": null,
   "metadata": {},
   "outputs": [],
   "source": [
    "f_ets_ds = fever_ds.copy()\n",
    "f_ets_ds['ETS'] = None\n",
    "f_ets_ds['Documents'] = None\n",
    "\n",
    "for i, row in f_ets_ds.iterrows():\n",
    "    try:\n",
    "        ets, document = utils.get_all_ETS_and_document(row['evidence'])\n",
    "        f_ets_ds.at[i, 'ETS'] = ets\n",
    "        f_ets_ds.at[i, 'Documents'] = document\n",
    "    except:\n",
    "        if row['label'] == 'NOT ENOUGH INFO':\n",
    "            f_ets_ds.at[i, 'ETS'] = None\n",
    "            f_ets_ds.at[i, 'Documents'] = None\n",
    "        else:\n",
    "            f_ets_ds = f_ets_ds.drop(i)  # Delete the current row\n",
    "\n",
    "f_ets_ds.to_csv('data/fever_dataset/fever_with_ETS.csv', index=True)"
   ]
  }
 ],
 "metadata": {
  "kernelspec": {
   "display_name": "Python 3",
   "language": "python",
   "name": "python3"
  },
  "language_info": {
   "codemirror_mode": {
    "name": "ipython",
    "version": 3
   },
   "file_extension": ".py",
   "mimetype": "text/x-python",
   "name": "python",
   "nbconvert_exporter": "python",
   "pygments_lexer": "ipython3",
   "version": "3.11.5"
  }
 },
 "nbformat": 4,
 "nbformat_minor": 2
}
