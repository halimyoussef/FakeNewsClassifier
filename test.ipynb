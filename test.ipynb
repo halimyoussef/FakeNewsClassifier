{
 "cells": [
  {
   "cell_type": "code",
   "execution_count": 1,
   "metadata": {},
   "outputs": [],
   "source": [
    "%load_ext autoreload\n",
    "%autoreload 2\n",
    "\n",
    "import utils\n",
    "import concurrent.futures\n",
    "import pandas as pd\n",
    "import numpy as np\n",
    "import matplotlib.pyplot as plt\n",
    "import json\n",
    "import logging as log\n",
    "import utils\n",
    "import concurrent.futures\n",
    "from tqdm import tqdm"
   ]
  },
  {
   "cell_type": "code",
   "execution_count": 2,
   "metadata": {},
   "outputs": [
    {
     "data": {
      "text/html": [
       "<div>\n",
       "<style scoped>\n",
       "    .dataframe tbody tr th:only-of-type {\n",
       "        vertical-align: middle;\n",
       "    }\n",
       "\n",
       "    .dataframe tbody tr th {\n",
       "        vertical-align: top;\n",
       "    }\n",
       "\n",
       "    .dataframe thead th {\n",
       "        text-align: right;\n",
       "    }\n",
       "</style>\n",
       "<table border=\"1\" class=\"dataframe\">\n",
       "  <thead>\n",
       "    <tr style=\"text-align: right;\">\n",
       "      <th></th>\n",
       "      <th>id</th>\n",
       "      <th>verifiable</th>\n",
       "      <th>label</th>\n",
       "      <th>claim</th>\n",
       "      <th>evidence</th>\n",
       "    </tr>\n",
       "  </thead>\n",
       "  <tbody>\n",
       "    <tr>\n",
       "      <th>0</th>\n",
       "      <td>75397</td>\n",
       "      <td>VERIFIABLE</td>\n",
       "      <td>SUPPORTS</td>\n",
       "      <td>Nikolaj Coster-Waldau worked with the Fox Broa...</td>\n",
       "      <td>[[[92206, 104971, Nikolaj_Coster-Waldau, 7], [...</td>\n",
       "    </tr>\n",
       "    <tr>\n",
       "      <th>1</th>\n",
       "      <td>150448</td>\n",
       "      <td>VERIFIABLE</td>\n",
       "      <td>SUPPORTS</td>\n",
       "      <td>Roman Atwood is a content creator.</td>\n",
       "      <td>[[[174271, 187498, Roman_Atwood, 1]], [[174271...</td>\n",
       "    </tr>\n",
       "    <tr>\n",
       "      <th>2</th>\n",
       "      <td>214861</td>\n",
       "      <td>VERIFIABLE</td>\n",
       "      <td>SUPPORTS</td>\n",
       "      <td>History of art includes architecture, dance, s...</td>\n",
       "      <td>[[[255136, 254645, History_of_art, 2]]]</td>\n",
       "    </tr>\n",
       "    <tr>\n",
       "      <th>3</th>\n",
       "      <td>156709</td>\n",
       "      <td>VERIFIABLE</td>\n",
       "      <td>REFUTES</td>\n",
       "      <td>Adrienne Bailon is an accountant.</td>\n",
       "      <td>[[[180804, 193183, Adrienne_Bailon, 0]]]</td>\n",
       "    </tr>\n",
       "    <tr>\n",
       "      <th>4</th>\n",
       "      <td>83235</td>\n",
       "      <td>NOT VERIFIABLE</td>\n",
       "      <td>NOT ENOUGH INFO</td>\n",
       "      <td>System of a Down briefly disbanded in limbo.</td>\n",
       "      <td>[[[100277, None, None, None]]]</td>\n",
       "    </tr>\n",
       "  </tbody>\n",
       "</table>\n",
       "</div>"
      ],
      "text/plain": [
       "       id      verifiable            label  \\\n",
       "0   75397      VERIFIABLE         SUPPORTS   \n",
       "1  150448      VERIFIABLE         SUPPORTS   \n",
       "2  214861      VERIFIABLE         SUPPORTS   \n",
       "3  156709      VERIFIABLE          REFUTES   \n",
       "4   83235  NOT VERIFIABLE  NOT ENOUGH INFO   \n",
       "\n",
       "                                               claim  \\\n",
       "0  Nikolaj Coster-Waldau worked with the Fox Broa...   \n",
       "1                 Roman Atwood is a content creator.   \n",
       "2  History of art includes architecture, dance, s...   \n",
       "3                  Adrienne Bailon is an accountant.   \n",
       "4       System of a Down briefly disbanded in limbo.   \n",
       "\n",
       "                                            evidence  \n",
       "0  [[[92206, 104971, Nikolaj_Coster-Waldau, 7], [...  \n",
       "1  [[[174271, 187498, Roman_Atwood, 1]], [[174271...  \n",
       "2            [[[255136, 254645, History_of_art, 2]]]  \n",
       "3           [[[180804, 193183, Adrienne_Bailon, 0]]]  \n",
       "4                     [[[100277, None, None, None]]]  "
      ]
     },
     "execution_count": 2,
     "metadata": {},
     "output_type": "execute_result"
    }
   ],
   "source": [
    "# claim label range is smaller than Liar and Snopes but provides sources like Snopes. Better for fact checking\n",
    "fever_ds = pd.read_json('data/fever_dataset/fever_train.jsonl', lines=True)\n",
    "fever_ds.head()"
   ]
  },
  {
   "cell_type": "code",
   "execution_count": 3,
   "metadata": {},
   "outputs": [
    {
     "name": "stdout",
     "output_type": "stream",
     "text": [
      "<class 'pandas.core.frame.DataFrame'>\n",
      "RangeIndex: 145449 entries, 0 to 145448\n",
      "Data columns (total 5 columns):\n",
      " #   Column      Non-Null Count   Dtype \n",
      "---  ------      --------------   ----- \n",
      " 0   id          145449 non-null  int64 \n",
      " 1   verifiable  145449 non-null  object\n",
      " 2   label       145449 non-null  object\n",
      " 3   claim       145449 non-null  object\n",
      " 4   evidence    145449 non-null  object\n",
      "dtypes: int64(1), object(4)\n",
      "memory usage: 5.5+ MB\n"
     ]
    }
   ],
   "source": [
    "fever_ds.info()"
   ]
  },
  {
   "cell_type": "code",
   "execution_count": 42,
   "metadata": {},
   "outputs": [
    {
     "name": "stdout",
     "output_type": "stream",
     "text": [
      "label\n",
      "SUPPORTS           80035\n",
      "NOT ENOUGH INFO    35639\n",
      "REFUTES            29775\n",
      "Name: count, dtype: int64\n"
     ]
    }
   ],
   "source": [
    "print(fever_ds['label'].value_counts())"
   ]
  },
  {
   "cell_type": "code",
   "execution_count": 43,
   "metadata": {},
   "outputs": [],
   "source": [
    "columns_to_drop = ['id', 'verifiable']\n",
    "filtered_fever = fever_ds.drop(columns_to_drop, axis=1)"
   ]
  },
  {
   "cell_type": "code",
   "execution_count": 44,
   "metadata": {},
   "outputs": [],
   "source": [
    "filtered_fever = filtered_fever[filtered_fever['label'] != 'NOT ENOUGH INFO']"
   ]
  },
  {
   "cell_type": "code",
   "execution_count": 45,
   "metadata": {},
   "outputs": [
    {
     "name": "stdout",
     "output_type": "stream",
     "text": [
      "label\n",
      "SUPPORTS    80035\n",
      "REFUTES     29775\n",
      "Name: count, dtype: int64\n"
     ]
    }
   ],
   "source": [
    "print(filtered_fever['label'].value_counts())"
   ]
  },
  {
   "cell_type": "code",
   "execution_count": 61,
   "metadata": {},
   "outputs": [],
   "source": [
    "snopes_ds = pd.read_csv('data/ukp_snopes_corpus/datasets_raw/snopes_corpus_4.csv')"
   ]
  },
  {
   "cell_type": "code",
   "execution_count": 64,
   "metadata": {},
   "outputs": [],
   "source": [
    "snopes_ds['Truthfulness (Verdicts)'] = snopes_ds['Truthfulness (Verdicts)'].replace(['FALSE', 'MOSTLY FALSE'], 'REFUTES')\n",
    "snopes_ds['Truthfulness (Verdicts)'] = snopes_ds['Truthfulness (Verdicts)'].replace(['TRUE', 'MOSTLY TRUE'], 'SUPPORTS')"
   ]
  },
  {
   "cell_type": "code",
   "execution_count": 65,
   "metadata": {},
   "outputs": [
    {
     "name": "stderr",
     "output_type": "stream",
     "text": [
      "C:\\Users\\halim\\AppData\\Local\\Temp\\ipykernel_31360\\2247206085.py:2: SettingWithCopyWarning: \n",
      "A value is trying to be set on a copy of a slice from a DataFrame\n",
      "\n",
      "See the caveats in the documentation: https://pandas.pydata.org/pandas-docs/stable/user_guide/indexing.html#returning-a-view-versus-a-copy\n",
      "  filtered_snopes.rename(columns={\n",
      "C:\\Users\\halim\\AppData\\Local\\Temp\\ipykernel_31360\\2247206085.py:11: SettingWithCopyWarning: \n",
      "A value is trying to be set on a copy of a slice from a DataFrame\n",
      "\n",
      "See the caveats in the documentation: https://pandas.pydata.org/pandas-docs/stable/user_guide/indexing.html#returning-a-view-versus-a-copy\n",
      "  filtered_snopes.drop(columns_to_drop, axis=1, inplace=True)\n",
      "C:\\Users\\halim\\AppData\\Local\\Temp\\ipykernel_31360\\2247206085.py:17: SettingWithCopyWarning: \n",
      "A value is trying to be set on a copy of a slice from a DataFrame.\n",
      "Try using .loc[row_indexer,col_indexer] = value instead\n",
      "\n",
      "See the caveats in the documentation: https://pandas.pydata.org/pandas-docs/stable/user_guide/indexing.html#returning-a-view-versus-a-copy\n",
      "  filtered_snopes['Numerical_Verdict'] = filtered_snopes['Verdict'].map(verdict_mapping)\n"
     ]
    }
   ],
   "source": [
    "filtered_snopes = snopes_ds[snopes_ds['Truthfulness (Verdicts)'].isin(['REFUTES', 'SUPPORTS'])]\n",
    "filtered_snopes.rename(columns={\n",
    "    'Truthfulness (Verdicts)': 'Verdict',\n",
    "    'Snippets (ETS)': 'ETS',\n",
    "    'Documents (orginal documents)': 'Document'\n",
    "}, inplace=True)\n",
    "\n",
    "\n",
    "\n",
    "columns_to_drop = ['ID', 'Snopes URL', 'Source URL', 'Match ETS and Documents ', 'Source', 'Document']\n",
    "filtered_snopes.drop(columns_to_drop, axis=1, inplace=True)\n",
    "\n",
    "verdict_mapping = {\n",
    "    'REFUTES': 0,\n",
    "    'SUPPORTS': 1,\n",
    "}\n",
    "filtered_snopes['Numerical_Verdict'] = filtered_snopes['Verdict'].map(verdict_mapping)"
   ]
  },
  {
   "cell_type": "code",
   "execution_count": 67,
   "metadata": {},
   "outputs": [
    {
     "name": "stdout",
     "output_type": "stream",
     "text": [
      "Verdict\n",
      "REFUTES     0.825742\n",
      "SUPPORTS    0.174258\n",
      "Name: proportion, dtype: float64\n",
      "label\n",
      "SUPPORTS    0.72885\n",
      "REFUTES     0.27115\n",
      "Name: proportion, dtype: float64\n"
     ]
    }
   ],
   "source": [
    "print(filtered_snopes['Verdict'].value_counts(normalize=True))\n",
    "print(filtered_fever['label'].value_counts(normalize=True))"
   ]
  },
  {
   "cell_type": "markdown",
   "metadata": {},
   "source": [
    "### Downsample and Retreving data for FEVER"
   ]
  },
  {
   "cell_type": "code",
   "execution_count": 83,
   "metadata": {},
   "outputs": [],
   "source": [
    "#fever_shuffled = filtered_fever.sample(frac=1, random_state=42)"
   ]
  },
  {
   "cell_type": "code",
   "execution_count": 90,
   "metadata": {},
   "outputs": [],
   "source": [
    "fever_downsampled = pd.concat([\n",
    "    filtered_fever[filtered_fever['label'] == 'SUPPORTS'].sample(n=len(filtered_snopes[filtered_snopes['Numerical_Verdict'] == 0]), replace=True, random_state=42),\n",
    "    filtered_fever[filtered_fever['label'] == 'REFUTES'].sample(n=len(filtered_snopes[filtered_snopes['Numerical_Verdict'] == 1]), replace=True, random_state=42)\n",
    "], axis=0)\n",
    "\n",
    "fever_downsampled['numerical_label'] = fever_downsampled['label'].map({'SUPPORTS': 1, 'REFUTES': 0})"
   ]
  },
  {
   "cell_type": "code",
   "execution_count": 91,
   "metadata": {},
   "outputs": [
    {
     "name": "stdout",
     "output_type": "stream",
     "text": [
      "Numerical_Verdict\n",
      "0    0.825742\n",
      "1    0.174258\n",
      "Name: proportion, dtype: float64\n",
      "numerical_label\n",
      "1    0.825742\n",
      "0    0.174258\n",
      "Name: proportion, dtype: float64\n"
     ]
    }
   ],
   "source": [
    "print(filtered_snopes['Numerical_Verdict'].value_counts(normalize=True))\n",
    "print(fever_downsampled['numerical_label'].value_counts(normalize=True))"
   ]
  },
  {
   "cell_type": "code",
   "execution_count": 92,
   "metadata": {},
   "outputs": [
    {
     "name": "stdout",
     "output_type": "stream",
     "text": [
      "numerical_label\n",
      "1    13543\n",
      "0     2858\n",
      "Name: count, dtype: int64\n"
     ]
    }
   ],
   "source": [
    "print(fever_downsampled['numerical_label'].value_counts())"
   ]
  },
  {
   "cell_type": "code",
   "execution_count": 93,
   "metadata": {},
   "outputs": [
    {
     "name": "stdout",
     "output_type": "stream",
     "text": [
      "Numerical_Verdict\n",
      "0    13543\n",
      "1     2858\n",
      "Name: count, dtype: int64\n"
     ]
    }
   ],
   "source": [
    "print(filtered_snopes['Numerical_Verdict'].value_counts())"
   ]
  },
  {
   "cell_type": "code",
   "execution_count": null,
   "metadata": {},
   "outputs": [],
   "source": [
    "articles = pd.DataFrame(columns=['page', 'data'])\n",
    "\n",
    "for i in tqdm(fever_downsampled.index, desc=\"Processing rows\", unit=\"row\"):\n",
    "    \n",
    "    if i not in fever_downsampled.index:\n",
    "        print(f\"Index {i} does not exist in the DataFrame. Skipping.\")\n",
    "        continue\n",
    "    \n",
    "    row = fever_downsampled.loc[i]\n",
    "    \n",
    "    try:\n",
    "        ets, document = utils.get_all_ETS_and_document(row['evidence'], articles)\n",
    "        #print(\">>> OUTPUT ETS: \", ets)\n",
    "        fever_downsampled.at[i, 'ETS'] = ets\n",
    "        fever_downsampled.at[i, 'Documents'] = document\n",
    "    except Exception as e:\n",
    "        fever_downsampled = fever_downsampled.drop(i)\n"
   ]
  },
  {
   "cell_type": "code",
   "execution_count": 95,
   "metadata": {},
   "outputs": [],
   "source": [
    "fever_downsampled.to_csv('fever_downsampled.csv', index=True)"
   ]
  },
  {
   "cell_type": "markdown",
   "metadata": {},
   "source": [
    "### Process dataset withouth thread"
   ]
  },
  {
   "cell_type": "code",
   "execution_count": null,
   "metadata": {},
   "outputs": [],
   "source": [
    "for i, row in fever_downsampled.iterrows():\n",
    "    try:\n",
    "        ets, document = utils.get_all_ETS_and_document(row['evidence'], articles)\n",
    "        print(\">>> OUTPUT ETS: \", ets)\n",
    "        fever_downsampled.at[i, 'ETS'] = ets\n",
    "        fever_downsampled.at[i, 'Documents'] = document\n",
    "    except:\n",
    "        if row['label'] == 'NOT ENOUGH INFO':\n",
    "            fever_downsampled.at[i, 'ETS'] = None\n",
    "            fever_downsampled.at[i, 'Documents'] = None\n",
    "        else:\n",
    "            fever_downsampled= fever_downsampled.drop(i)"
   ]
  }
 ],
 "metadata": {
  "kernelspec": {
   "display_name": "Python 3",
   "language": "python",
   "name": "python3"
  },
  "language_info": {
   "codemirror_mode": {
    "name": "ipython",
    "version": 3
   },
   "file_extension": ".py",
   "mimetype": "text/x-python",
   "name": "python",
   "nbconvert_exporter": "python",
   "pygments_lexer": "ipython3",
   "version": "3.11.5"
  }
 },
 "nbformat": 4,
 "nbformat_minor": 2
}
